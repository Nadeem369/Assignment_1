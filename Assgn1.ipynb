{
 "cells": [
  {
   "cell_type": "code",
   "execution_count": 4,
   "id": "f3637bc6-576b-4d26-a0a0-aac7896458fc",
   "metadata": {},
   "outputs": [],
   "source": [
    "Question1 = \"Who Devleloped Python programming language ?\""
   ]
  },
  {
   "cell_type": "code",
   "execution_count": 1,
   "id": "527ce767-2605-43f2-8f7b-6f74771cd8d6",
   "metadata": {},
   "outputs": [],
   "source": [
    "Answer1 = \"Guido van Rossum developed Python programming language.\""
   ]
  },
  {
   "cell_type": "code",
   "execution_count": null,
   "id": "3981dda2-fb37-4616-831f-1a4da496a327",
   "metadata": {},
   "outputs": [],
   "source": []
  },
  {
   "cell_type": "code",
   "execution_count": 2,
   "id": "546359a7-b529-4e71-8c6b-4b48cfd6dfdc",
   "metadata": {},
   "outputs": [],
   "source": [
    "Question_2 = 'which type of programming does python support'"
   ]
  },
  {
   "cell_type": "code",
   "execution_count": 3,
   "id": "e7c2232c-42bc-44fe-9623-839761a4bc38",
   "metadata": {},
   "outputs": [],
   "source": [
    "Answer_2 = '''Python supports several programming paradigms, including'''\n"
   ]
  },
  {
   "cell_type": "code",
   "execution_count": null,
   "id": "90360fb9-24c3-4165-a754-873078aea2fe",
   "metadata": {},
   "outputs": [],
   "source": [
    "Imperative programming:\n",
    "'''This paradigm is based on giving the computer a sequence of tasks to perform, \n",
    "using statements that change a program's state. \n",
    "Imperative programming focuses on what the program does.'''"
   ]
  },
  {
   "cell_type": "code",
   "execution_count": null,
   "id": "d85befc8-19d3-4cd9-92ac-88dbe1f85768",
   "metadata": {},
   "outputs": [],
   "source": [
    "Object-Oriented programming (OOP):\n",
    "'''In OOP, the program is organized around objects, \n",
    "which are instances of classes and can contain data and behavior. \n",
    "This paradigm emphasizes the objects that the program manipulates, \n",
    "rather than the logic required to manipulate them.'''"
   ]
  },
  {
   "cell_type": "code",
   "execution_count": null,
   "id": "0f760f4f-4c14-4571-b3d9-68b5d442551f",
   "metadata": {},
   "outputs": [],
   "source": [
    "Functional programming:\n",
    "'''This paradigm is based on mathematical functions and is used to write pure functions that avoid side effects.\n",
    "In functional programming, the output of a function depends solely on its input,\n",
    "and there are no hidden dependencies or state changes.'''"
   ]
  },
  {
   "cell_type": "code",
   "execution_count": null,
   "id": "116d2a2c-ddf1-47dd-a6b5-5768d19963c7",
   "metadata": {},
   "outputs": [],
   "source": [
    "Procedural programming:\n",
    "'''This paradigm is based on a sequence of procedures or subroutines, each of which performs a specific task.\n",
    "This paradigm is similar to imperative programming, \n",
    "but places a greater emphasis on breaking down the program into functions."
   ]
  },
  {
   "cell_type": "code",
   "execution_count": null,
   "id": "41eb5819-6cf4-45cf-a82f-01839f0cce04",
   "metadata": {},
   "outputs": [],
   "source": [
    "'''Python's dynamic and flexible nature allows it to support a combination of these paradigms,\n",
    "making it a versatile language for a wide range of applications.'''"
   ]
  },
  {
   "cell_type": "code",
   "execution_count": null,
   "id": "0ce945b6-087e-45d9-9ad2-b8e1942d4ab2",
   "metadata": {},
   "outputs": [],
   "source": []
  },
  {
   "cell_type": "code",
   "execution_count": 14,
   "id": "2b3ead30-61e0-49f2-8521-37eab12a81a9",
   "metadata": {},
   "outputs": [],
   "source": [
    "Question_3 = 'is python case-sensitive when dealing with identifiers?'"
   ]
  },
  {
   "cell_type": "code",
   "execution_count": null,
   "id": "92e7f802-06c2-4ab7-be6e-464b32dd1dec",
   "metadata": {
    "tags": []
   },
   "outputs": [],
   "source": [
    "Answer_3 = '''Yes, Python is case-sensitive when dealing with identifiers. \n",
    "This means that names for variables, functions, etc. are treated as different if their capitalization is \n",
    "different. \n",
    "For example, \"foo\" and \"Foo\" would be considered two different names in Python.'''"
   ]
  },
  {
   "cell_type": "code",
   "execution_count": 16,
   "id": "70d37a82-b90a-44df-8df1-aeef896373aa",
   "metadata": {
    "tags": []
   },
   "outputs": [],
   "source": [
    "Case_Sensitive = '''Case sensitivity refers to the property of a programming language in which the language\n",
    "treats upper-case and lower-case characters as distinct and different.'''\n",
    "Example:\n",
    "     '''in a case-sensitive language like Python, the variables \"Nadeem\" and \"nadeem\" would be treated as two\n",
    "     distinct and different variables, even though they only differ in the case of the letters.    "
   ]
  },
  {
   "cell_type": "code",
   "execution_count": null,
   "id": "ac9d1d9d-792e-4ea1-8e82-be8bc7432564",
   "metadata": {},
   "outputs": [],
   "source": [
    "Idendifier = '''An identifier is a name given to a variable, function, class, module, or other object \n",
    "in a program. Identifiers are used to refer to these objects in the code, and they can consist of letters,\n",
    "digits, and underscores.'''\n",
    "For example:\n",
    "    '''in Python, \"my_variable\" or \"myVariable\" would be valid identifiers, while \"my variable\" or \"12months\"\n",
    "    would not be valid.Example'''"
   ]
  },
  {
   "cell_type": "code",
   "execution_count": null,
   "id": "3c760d09-8b62-4c01-8343-e9ad42168028",
   "metadata": {},
   "outputs": [],
   "source": []
  },
  {
   "cell_type": "code",
   "execution_count": 18,
   "id": "8e31bc29-f487-4fdd-be61-4a10792bf08e",
   "metadata": {},
   "outputs": [],
   "source": [
    "Question_4 = \"what is the correct Extention of the python file\""
   ]
  },
  {
   "cell_type": "code",
   "execution_count": null,
   "id": "fdc432cc-a54e-4a76-810f-3d8fe76e772e",
   "metadata": {},
   "outputs": [],
   "source": [
    "Answer_4 = '''An extension is a set of characters added to the end of a file name, \n",
    "usually separated from the rest of the name by a period (.).\n",
    "The extension is used to identify the type of file and the software that should be \n",
    "used to open it.'''\n",
    "\n",
    "For example:\n",
    "    '''in the file name \"document.txt\", the \".txt\" extension indicates that the file is a\n",
    "    text file that can be opened with a text editor like Notepad.\n",
    "    Similarly, in the file name \"script.py\", the \".py\" extension indicates that the file \n",
    "    is a Python script that should be opened with a Python interpreter.'''"
   ]
  },
  {
   "cell_type": "code",
   "execution_count": null,
   "id": "e75351c1-15cd-4fe9-bd0e-48406fa23f4a",
   "metadata": {},
   "outputs": [],
   "source": []
  },
  {
   "cell_type": "code",
   "execution_count": 21,
   "id": "0d4a4558-f143-4206-9e1c-a439bd4c7bed",
   "metadata": {},
   "outputs": [],
   "source": [
    "Question_5 = \"is python code is compiled or interprited?\""
   ]
  },
  {
   "cell_type": "code",
   "execution_count": null,
   "id": "0e3d7d4f-c7cc-41f5-a0a9-7583029fd35e",
   "metadata": {},
   "outputs": [],
   "source": [
    "Answer_5 = '''Python code is interpreted, not compiled.\n",
    "This means that the code is executed line by line, rather than being transformed \n",
    "into machine code and executed directly.\n"
   ]
  },
  {
   "cell_type": "code",
   "execution_count": null,
   "id": "233fb53e-d667-4d12-bb96-23c2091cd6c4",
   "metadata": {},
   "outputs": [],
   "source": [
    "Here are some examples of how Python code can be executed:\n",
    "\n",
    "'''Interactively, using the Python interpreter:\n",
    "You can open a terminal or command prompt and type \"python\" to start the interpreter. \n",
    "Then, you can type Python code line by line and see the results immediately.\n",
    "\n",
    "By running a Python script:\n",
    "You can save your Python code in a file with a \".py\" extension and run it using the \n",
    "command line. For example, to run a script called \"my_script.py\", you would type \n",
    "\"python my_script.py\" in the command prompt.\n",
    "\n",
    "Using a Integrated Development Environment (IDE):\n",
    "You can use a Python IDE like PyCharm, Jupyter Notebook, or IDLE to write, run, \n",
    "and debug your code. These IDEs provide a user-friendly interface for writing, executing,\n",
    "and debugging Python code.\n",
    "\n",
    "By embedding Python in another application:\n",
    "You can embed Python code in another application, such as a web server,\n",
    "to provide dynamic content or automate tasks. In this case, the Python code is executed\n",
    "as part of the larger application, rather than as a standalone script.'''"
   ]
  },
  {
   "cell_type": "code",
   "execution_count": null,
   "id": "212c5c73-334e-487b-8f4d-44862d484d6f",
   "metadata": {},
   "outputs": [],
   "source": [
    "Difrence between Compiler and Interpreter:\n",
    "    '''A compiler and an interpreter are both tools for executing code,\n",
    "    but they work in different ways:\n",
    "\n",
    "Compiler:\n",
    "A compiler takes the entire program written in a high-level language and compiles it into\n",
    "machine code, which can be executed directly by the computer's processor.\n",
    "The compiled machine code is usually stored in a separate executable file,\n",
    "which can be run without the need for the compiler.\n",
    "\n",
    "Interpreter:\n",
    "An interpreter, on the other hand, reads the code line by line and immediately executes\n",
    "each line, without producing an executable file. The interpreter must be present during\n",
    "execution and is responsible for translating and executing the code on the fly."
   ]
  },
  {
   "cell_type": "code",
   "execution_count": null,
   "id": "8ef4fff5-8148-4ce3-926b-89f467694347",
   "metadata": {},
   "outputs": [],
   "source": [
    "How does Compiler work:\n",
    "    '''A compiler works by translating high-level source code written in a programming \n",
    "    language into machine code that can be executed by a computer's processor.\n",
    "    The basic steps involved in the compilation process are'''\n",
    "\n",
    "Lexical analysis:\n",
    "'''The compiler starts by dividing the source code into a series of tokens,\n",
    "which represent the basic elements of the code such as keywords, operators, \n",
    "identifiers, and literals.'''\n",
    "\n",
    "Syntax analysis:\n",
    "'''Next, the compiler checks the code's syntax to ensure it is well-formed and adheres \n",
    "to the rules of the programming language. If the code is invalid,\n",
    "the compiler generates error messages indicating where the syntax problems occur.'''\n",
    "\n",
    "Semantic analysis:\n",
    "'''During the semantic analysis phase, the compiler performs a deeper analysis of the\n",
    "code to check for semantic errors,\n",
    "such as undefined variables, type mismatches, and other logical problems.'''\n",
    "\n",
    "Intermediate code generation:\n",
    "'''After the code is validated, the compiler generates intermediate code,\n",
    "which is a low-level representation of the source code.\n",
    "This code is usually platform-independent and can be optimized for performance.'''\n",
    "\n",
    "Code optimization:\n",
    "'''The compiler may then perform various optimizations on the intermediate code to make\n",
    "the generated machine code faster and more efficient. \n",
    "For example, the compiler may remove redundant instructions, \n",
    "reorder code for improved performance, or perform constant folding and propagation.'''\n",
    "\n",
    "Code generation:\n",
    "'''Finally, the compiler generates the machine code that can be executed by the processor.\n",
    "The machine code is saved in an executable file that can be run without the need for \n",
    "the compiler.\n",
    "\n",
    "Note that the exact details of the compilation process can vary depending on the\n",
    "programming language, the compiler, and the target platform.'"
   ]
  },
  {
   "cell_type": "code",
   "execution_count": null,
   "id": "9a0a03cf-62f6-4a4b-834d-f5b96b4b1a58",
   "metadata": {},
   "outputs": [],
   "source": []
  },
  {
   "cell_type": "code",
   "execution_count": 26,
   "id": "00006b2c-fd40-4868-8cc0-8f59bc1ccf79",
   "metadata": {},
   "outputs": [],
   "source": [
    "Question_6 = \"Name a few blocks of code used to define in python lenguage\""
   ]
  },
  {
   "cell_type": "code",
   "execution_count": 27,
   "id": "0df72103-56ec-440a-ae26-a9a12761bf80",
   "metadata": {},
   "outputs": [],
   "source": [
    "Answer_6 = '''Here are a few blocks of code used to define things in Python:\n",
    "1. Functions\n",
    "2. Classes\n",
    "3. Loops\n",
    "4. Conditional statements\n",
    "5. Context Manager (using \"with\" statement):\n",
    "6. Try-except blocks for error handling:\n",
    "7. List comprehensions for creating lists:\n",
    "8. Dictionaries for key-value pairs:\n",
    "9. Sets for unique elements:\n",
    "10. Lambda functions (anonymous functions):\n",
    "11. Generators for iterating over a sequence of values:\n",
    "12. Decorators for modifying the behavior of functions or classes. etc'''\n"
   ]
  },
  {
   "cell_type": "code",
   "execution_count": null,
   "id": "5a5b75ac-4171-40b2-bcc4-aff3437364da",
   "metadata": {},
   "outputs": [],
   "source": []
  },
  {
   "cell_type": "code",
   "execution_count": 28,
   "id": "b1a2c3fa-74e8-42c0-9d34-d7f790e85afc",
   "metadata": {},
   "outputs": [],
   "source": [
    "Question_7 = \"Stat a character used to give single line comment in python\""
   ]
  },
  {
   "cell_type": "code",
   "execution_count": 30,
   "id": "4ffa67e8-e4a4-4fb3-823d-21ca759e55bc",
   "metadata": {},
   "outputs": [],
   "source": [
    "Answer_7 = '''In Python, the # symbol is used to indicate a single-line comment. \n",
    "Any text written after the # symbol on a line is ignored by the interpreter.'''"
   ]
  },
  {
   "cell_type": "code",
   "execution_count": null,
   "id": "784b216c-5b61-4db0-8bca-a9de12651e36",
   "metadata": {},
   "outputs": [],
   "source": []
  },
  {
   "cell_type": "code",
   "execution_count": 1,
   "id": "3fd4bd99-6d62-470a-afb7-dcc61915312e",
   "metadata": {},
   "outputs": [],
   "source": [
    "Question_8 = '''Mention function which can help us to find the version of Python that we \n",
    "are currently working on?'''"
   ]
  },
  {
   "cell_type": "code",
   "execution_count": 6,
   "id": "b793af25-4044-430a-8b52-c985658f0b71",
   "metadata": {},
   "outputs": [],
   "source": [
    "Answer_8 = '''The sys.version or sys.version_info in the sys module can be used to find \n",
    "the version of Python that you are currently working on'''"
   ]
  },
  {
   "cell_type": "code",
   "execution_count": 9,
   "id": "90f10a29-da1f-4474-9f90-ea9dc60b12b9",
   "metadata": {},
   "outputs": [
    {
     "name": "stdout",
     "output_type": "stream",
     "text": [
      "3.10.8 | packaged by conda-forge | (main, Nov 22 2022, 08:26:04) [GCC 10.4.0]\n"
     ]
    }
   ],
   "source": [
    "import sys\n",
    "print(sys.version)"
   ]
  },
  {
   "cell_type": "code",
   "execution_count": null,
   "id": "4b82341d-9ec4-44e9-9c8d-3ddf5db3131d",
   "metadata": {},
   "outputs": [],
   "source": []
  },
  {
   "cell_type": "code",
   "execution_count": 1,
   "id": "6373d120-8646-490f-96e0-3973cc6ee43e",
   "metadata": {},
   "outputs": [],
   "source": [
    "Question_9 = '''python supports the creation of an anonymous function at run time using \n",
    "a construct called?'''"
   ]
  },
  {
   "cell_type": "code",
   "execution_count": 2,
   "id": "27445c02-8aa4-47ff-9c13-5b270924ec2e",
   "metadata": {},
   "outputs": [],
   "source": [
    "Answer_9 = '''\"lambda\" is the construct used to create anonymous functions at runtime\n",
    "in Python.'''"
   ]
  },
  {
   "cell_type": "code",
   "execution_count": null,
   "id": "8844ad3b-4420-42ba-95e0-cb608ae1e826",
   "metadata": {},
   "outputs": [],
   "source": []
  },
  {
   "cell_type": "code",
   "execution_count": 3,
   "id": "d3f84b5b-9654-4a24-9234-6ce379710ad4",
   "metadata": {},
   "outputs": [],
   "source": [
    "Question_10 =\"What does pip stand for Python\""
   ]
  },
  {
   "cell_type": "code",
   "execution_count": null,
   "id": "215e5056-c723-4ab2-9e5e-2a3e3fef1047",
   "metadata": {},
   "outputs": [],
   "source": [
    "Answer_10 = '''\"pip\" stands for \"Pip Installs Packages\". It is a package management\n",
    "system used to install and manage packages and libraries for Python.\n",
    "With pip, you can easily install and manage packages for your Python projects.'''\n",
    "\n",
    "\"pip install <package_name>\""
   ]
  },
  {
   "cell_type": "code",
   "execution_count": null,
   "id": "e4d5df4f-d827-4419-8018-65b93607fd92",
   "metadata": {},
   "outputs": [],
   "source": []
  },
  {
   "cell_type": "code",
   "execution_count": 6,
   "id": "3f87e6ff-393d-43d4-8911-6ca2d198ef74",
   "metadata": {},
   "outputs": [],
   "source": [
    "Question_11 = \"Mention a some inbuilt function in python\""
   ]
  },
  {
   "cell_type": "code",
   "execution_count": 8,
   "id": "f3db666a-ed22-40a2-b4ed-ea0f088d4a4e",
   "metadata": {},
   "outputs": [],
   "source": [
    "Answer_11 = '''As of now, the latest version of Python 3.8 has 69 built-in functions.\n",
    "Here are some of the most commonly used inbuilt functions in Python:\n",
    "\n",
    "print(): used to print output to the console.\n",
    "len(): used to get the length of an object (e.g. string, list, tuple, etc.).\n",
    "int(): used to convert a number or string to an integer.\n",
    "float(): used to convert a number or string to a floating-point number.\n",
    "str(): used to convert an object to a string.\n",
    "sum(): used to calculate the sum of elements in an iterable object (e.g. list, tuple, etc.).\n",
    "min(): used to find the minimum value in an iterable object.\n",
    "max(): used to find the maximum value in an iterable object.\n",
    "sorted(): used to sort an iterable object.\n",
    "abs(): used to get the absolute value of a number.\n",
    "range(): used to generate a sequence of numbers.'''"
   ]
  },
  {
   "cell_type": "code",
   "execution_count": null,
   "id": "ae44995e-2c83-46d4-8689-3a8b9337bf0d",
   "metadata": {},
   "outputs": [],
   "source": []
  },
  {
   "cell_type": "code",
   "execution_count": 9,
   "id": "2da3c173-bd41-41bc-866c-197cad2ef299",
   "metadata": {},
   "outputs": [],
   "source": [
    "Question_12 = ''' What is the maximum possible range of identifier\n",
    "in python?'''"
   ]
  },
  {
   "cell_type": "code",
   "execution_count": 10,
   "id": "16f63d05-d559-4ee9-b833-2bcdc3d930ef",
   "metadata": {},
   "outputs": [],
   "source": [
    "Answer_12 = '''\n",
    "A particular name generated by the programmer to define a variable, structure, class,\n",
    "or function is called an identifier. It is important to suggest some understandable\n",
    "names to the identifiers to get the code quickly readable.\n",
    "The maximum possible length of an identifier in the Python language is \n",
    "79 characters'''"
   ]
  },
  {
   "cell_type": "code",
   "execution_count": null,
   "id": "9688ea16-c51d-42f9-977b-c126282294c6",
   "metadata": {},
   "outputs": [],
   "source": []
  },
  {
   "cell_type": "code",
   "execution_count": 11,
   "id": "4b8609d5-0579-49bd-9092-043d1c7c5340",
   "metadata": {},
   "outputs": [],
   "source": [
    "Question_13 = '''Python is a popular programming language that has many benefits,\n",
    "including:\n",
    "\n",
    "Easy to learn and use:\n",
    "                     Python has a simple and intuitive syntax that is easy to learn, \n",
    "                     especially for beginners.\n",
    "                     Its readability makes it a great choice for learning programming.\n",
    "\n",
    "Versatile:\n",
    "          Python is used in a wide range of applications, including web development, \n",
    "          scientific computing, data analysis, artificial intelligence, and more.\n",
    "\n",
    "Large and active community:\n",
    "                          Python has a large and active community of developers and users\n",
    "                          who contribute to its development and support. \n",
    "                          This means that you can find a wealth of resources and help \n",
    "                          online.\n",
    "\n",
    "Numerous libraries and packages: \n",
    "                  Python has a large number of libraries and packages that can be used \n",
    "                  for various tasks, from scientific computing to web development. \n",
    "                  This makes it easy to get started with your project and helps to \n",
    "                  increase productivity.\n",
    "\n",
    "Cross-platform compatibility:\n",
    "               Python can run on multiple platforms, including Windows, macOS, and Linux,\n",
    "               making it a great choice for building cross-platform applications.\n",
    "\n",
    "Dynamic typing:\n",
    "           Python uses dynamic typing, which means that the type of a variable can change\n",
    "           during runtime. This makes it easier to write code quickly,\n",
    "           and eliminates the need for declaring data types explicitly.\n",
    "\n",
    "Object-oriented programming:\n",
    "               Python supports object-oriented programming, which makes it easy to create\n",
    "               reusable code.\n",
    "\n",
    "These are just some of the benefits of using Python. It is a versatile language that\n",
    "is suitable for a wide range of applications and provides a good balance between ease \n",
    "of use and power.'''\n",
    "\n",
    "\n",
    "\n"
   ]
  },
  {
   "cell_type": "code",
   "execution_count": null,
   "id": "6e1803d6-75f7-4902-8c3e-17f868466a50",
   "metadata": {},
   "outputs": [],
   "source": []
  },
  {
   "cell_type": "code",
   "execution_count": 1,
   "id": "aa20a348-18bb-4b92-a3c5-a0b414877827",
   "metadata": {},
   "outputs": [],
   "source": [
    "Question_14 = \"How is memory managed in Python\""
   ]
  },
  {
   "cell_type": "code",
   "execution_count": 2,
   "id": "ceac0e6e-4d06-4265-a517-783b604802a7",
   "metadata": {},
   "outputs": [],
   "source": [
    "Answer_14 = '''Memory in Python is managed by the Python memory manager, which is\n",
    "responsible for allocating and freeing memory, and provides an interface for programmers\n",
    "to interact with the memory manager. \n",
    "The memory manager uses a system of reference counting and garbage collection to manage\n",
    "memory dynamically, freeing memory occupied by objects no longer in use.\n",
    "Additionally, Python provides features such as data structures and other tools that help\n",
    "manage memory effectively in the context of the Python interpreter'''"
   ]
  },
  {
   "cell_type": "code",
   "execution_count": null,
   "id": "018c100e-586f-4df3-b778-d1bf6391e589",
   "metadata": {},
   "outputs": [],
   "source": [
    "'''Garbage collection is a process in which the interpreter frees up the memory when not\n",
    "in use to make it available for other objects.\n",
    "Assume a case where no reference is pointing to an object in memory i.e.\n",
    "it is not in use so, the virtual machine has a garbage collector that automatically\n",
    "deletes that object from the heap memory'''"
   ]
  },
  {
   "cell_type": "code",
   "execution_count": null,
   "id": "86190fb3-0bf0-4256-af23-ccf910ed0ae8",
   "metadata": {},
   "outputs": [],
   "source": []
  },
  {
   "cell_type": "code",
   "execution_count": null,
   "id": "35b5e5c4-ef89-42f8-87f5-30cb6364e1e6",
   "metadata": {},
   "outputs": [],
   "source": [
    "Question_15 = \"How to install Python on Windows and set path variable\""
   ]
  },
  {
   "cell_type": "code",
   "execution_count": 6,
   "id": "ecd5b008-d06f-4ea6-b934-4fad3a7bf52b",
   "metadata": {},
   "outputs": [
    {
     "data": {
      "text/plain": [
       "'Pyhton'"
      ]
     },
     "execution_count": 6,
     "metadata": {},
     "output_type": "execute_result"
    }
   ],
   "source": [
    "Answer_15 = '''To install Python on Windows, follow these steps:\n",
    "\n",
    "Go to the official Python website (https://www.python.org/downloads/) and download the\n",
    "latest version of Python for Windows.\n",
    "\n",
    "Run the downloaded Python installation file, and follow the instructions on the screen.\n",
    "Make sure to check the option to \"Add Python to PATH\" during the installation process.\n",
    "\n",
    "Once the installation is complete, open the Command Prompt (cmd.exe) and type the\n",
    "following command to verify that Python was installed and added to the PATH:'''\n",
    "\n",
    "\"Pyhton\""
   ]
  },
  {
   "cell_type": "code",
   "execution_count": null,
   "id": "ebeaf886-2129-42e2-b022-40373cbbc88c",
   "metadata": {},
   "outputs": [],
   "source": [
    "'''If the Python prompt appears, then the installation was successful and the PATH variable\n",
    "has been set correctly. To exit the Python prompt, type exit() or press Ctrl + Z.\n",
    "Setting the PATH variable allows you to run Python from any directory in the Command\n",
    "Prompt without having to specify the full path to the Python executable.'''"
   ]
  },
  {
   "cell_type": "code",
   "execution_count": null,
   "id": "d1fe43f1-c4f1-435a-8421-edc2e31d5cbe",
   "metadata": {},
   "outputs": [],
   "source": []
  },
  {
   "cell_type": "code",
   "execution_count": 8,
   "id": "d3b95a10-5444-4494-ba73-7fdcbaa3e37e",
   "metadata": {},
   "outputs": [],
   "source": [
    "Question_16 = \"Is indentation required in Pyhton?\""
   ]
  },
  {
   "cell_type": "code",
   "execution_count": null,
   "id": "28e7619e-8f3b-4609-9257-76f9a609bc97",
   "metadata": {},
   "outputs": [],
   "source": [
    "Answer_16 = '''Yes, indentation is required in Python. \n",
    "Indentation is used to define code blocks, such as functions, loops, and conditional\n",
    "statements. In Python, the amount of indentation is significant, \n",
    "and it determines the grouping of statements. \n",
    "Inconsistent indentation can cause syntax errors and unexpected behavior. \n",
    "A common indentation level is 4 spaces, but it can be any number of spaces as long as it\n",
    "is consistent within the same code block.\n"
   ]
  }
 ],
 "metadata": {
  "kernelspec": {
   "display_name": "Python 3 (ipykernel)",
   "language": "python",
   "name": "python3"
  },
  "language_info": {
   "codemirror_mode": {
    "name": "ipython",
    "version": 3
   },
   "file_extension": ".py",
   "mimetype": "text/x-python",
   "name": "python",
   "nbconvert_exporter": "python",
   "pygments_lexer": "ipython3",
   "version": "3.10.8"
  }
 },
 "nbformat": 4,
 "nbformat_minor": 5
}
